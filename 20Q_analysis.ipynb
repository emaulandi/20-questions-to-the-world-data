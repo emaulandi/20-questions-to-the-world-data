{
 "cells": [
  {
   "cell_type": "code",
   "execution_count": 32,
   "metadata": {
    "collapsed": false
   },
   "outputs": [
    {
     "data": {
      "text/plain": [
       "{'32': '',\n",
       " 'Age': '30',\n",
       " 'Category': 'Adult',\n",
       " 'Country 1': 'Australia',\n",
       " 'Country 2': '',\n",
       " 'Gender': 'F',\n",
       " 'Job': 'Phd Student',\n",
       " 'Number of kids': '0',\n",
       " 'Place of living': 'Sydney',\n",
       " 'REF': 'AUS001',\n",
       " 'Type of school': 'Law, Health',\n",
       " 'Years of studies': '10'}"
      ]
     },
     "execution_count": 32,
     "metadata": {},
     "output_type": "execute_result"
    }
   ],
   "source": [
    "import unicodecsv\n",
    "import pandas as pd\n",
    "\n",
    "# function read csv\n",
    "def read_csv(filename):\n",
    "    with open(filename, 'rb') as f:\n",
    "        reader = unicodecsv.DictReader(f)\n",
    "        return list(reader)\n",
    "\n",
    "#load CSV as list\n",
    "people_filename = './data/people.csv'\n",
    "people = read_csv(people_filename)\n",
    "\n",
    "people[0]"
   ]
  },
  {
   "cell_type": "code",
   "execution_count": 33,
   "metadata": {
    "collapsed": false
   },
   "outputs": [
    {
     "name": "stdout",
     "output_type": "stream",
     "text": [
      "437\n",
      "437\n",
      "[]\n"
     ]
    }
   ],
   "source": [
    "# Look for duplicate in the ref value\n",
    "print (len(people))\n",
    "unique_people = set()\n",
    "duplicate = list()\n",
    "for person in people:\n",
    "    if person['REF'] in unique_people:\n",
    "        duplicate.append(person['REF'])\n",
    "    unique_people.add(person['REF'])\n",
    "print (len(unique_people))\n",
    "print(duplicate)"
   ]
  },
  {
   "cell_type": "code",
   "execution_count": 34,
   "metadata": {
    "collapsed": false
   },
   "outputs": [
    {
     "data": {
      "text/plain": [
       "{'32': '',\n",
       " 'Age': 30,\n",
       " 'Category': 'Adult',\n",
       " 'Country 1': 'Australia',\n",
       " 'Country 2': '',\n",
       " 'Gender': 'F',\n",
       " 'Job': 'Phd Student',\n",
       " 'Number of kids': 0,\n",
       " 'Place of living': 'Sydney',\n",
       " 'REF': 'AUS001',\n",
       " 'Type of school': 'Law, Health',\n",
       " 'Years of studies': 10}"
      ]
     },
     "execution_count": 34,
     "metadata": {},
     "output_type": "execute_result"
    }
   ],
   "source": [
    "# Takes a string which is either an empty string or represents an integer,\n",
    "# and returns an int or None.\n",
    "def parse_maybe_int(i):\n",
    "    if i == '':\n",
    "        return 0\n",
    "    else:\n",
    "        return int(i)\n",
    "\n",
    "for person in people:\n",
    "    person['Age'] = parse_maybe_int(person['Age'])\n",
    "    person['Number of kids'] = parse_maybe_int(person['Number of kids'])\n",
    "    person['Years of studies'] = parse_maybe_int(person['Years of studies'])\n",
    "    \n",
    "people[0]"
   ]
  },
  {
   "cell_type": "code",
   "execution_count": 35,
   "metadata": {
    "collapsed": false
   },
   "outputs": [
    {
     "data": {
      "text/html": [
       "<div>\n",
       "<table border=\"1\" class=\"dataframe\">\n",
       "  <thead>\n",
       "    <tr style=\"text-align: right;\">\n",
       "      <th></th>\n",
       "      <th>32</th>\n",
       "      <th>Age</th>\n",
       "      <th>Category</th>\n",
       "      <th>Country 1</th>\n",
       "      <th>Country 2</th>\n",
       "      <th>Gender</th>\n",
       "      <th>Job</th>\n",
       "      <th>Number of kids</th>\n",
       "      <th>Place of living</th>\n",
       "      <th>REF</th>\n",
       "      <th>Type of school</th>\n",
       "      <th>Years of studies</th>\n",
       "    </tr>\n",
       "  </thead>\n",
       "  <tbody>\n",
       "    <tr>\n",
       "      <th>0</th>\n",
       "      <td></td>\n",
       "      <td>30</td>\n",
       "      <td>Adult</td>\n",
       "      <td>Australia</td>\n",
       "      <td></td>\n",
       "      <td>F</td>\n",
       "      <td>Phd Student</td>\n",
       "      <td>0</td>\n",
       "      <td>Sydney</td>\n",
       "      <td>AUS001</td>\n",
       "      <td>Law, Health</td>\n",
       "      <td>10</td>\n",
       "    </tr>\n",
       "    <tr>\n",
       "      <th>1</th>\n",
       "      <td></td>\n",
       "      <td>32</td>\n",
       "      <td>Adult</td>\n",
       "      <td>China</td>\n",
       "      <td></td>\n",
       "      <td>F</td>\n",
       "      <td>Former Consultant</td>\n",
       "      <td>0</td>\n",
       "      <td>Paris</td>\n",
       "      <td>CHN01</td>\n",
       "      <td>Engineering</td>\n",
       "      <td>5</td>\n",
       "    </tr>\n",
       "    <tr>\n",
       "      <th>2</th>\n",
       "      <td></td>\n",
       "      <td>69</td>\n",
       "      <td>Adult</td>\n",
       "      <td>France</td>\n",
       "      <td></td>\n",
       "      <td>F</td>\n",
       "      <td>Retiree</td>\n",
       "      <td>3</td>\n",
       "      <td>Cucq</td>\n",
       "      <td>FR001</td>\n",
       "      <td></td>\n",
       "      <td>1</td>\n",
       "    </tr>\n",
       "    <tr>\n",
       "      <th>3</th>\n",
       "      <td></td>\n",
       "      <td>58</td>\n",
       "      <td>Adult</td>\n",
       "      <td>France</td>\n",
       "      <td></td>\n",
       "      <td>M</td>\n",
       "      <td>Farmer</td>\n",
       "      <td>2</td>\n",
       "      <td>La Caloterie</td>\n",
       "      <td>FR002</td>\n",
       "      <td></td>\n",
       "      <td>0</td>\n",
       "    </tr>\n",
       "    <tr>\n",
       "      <th>4</th>\n",
       "      <td></td>\n",
       "      <td>28</td>\n",
       "      <td>Adult</td>\n",
       "      <td>Madagascar</td>\n",
       "      <td></td>\n",
       "      <td>F</td>\n",
       "      <td>Singer</td>\n",
       "      <td>0</td>\n",
       "      <td>Paris</td>\n",
       "      <td>MAD001</td>\n",
       "      <td></td>\n",
       "      <td>3</td>\n",
       "    </tr>\n",
       "  </tbody>\n",
       "</table>\n",
       "</div>"
      ],
      "text/plain": [
       "  32  Age Category   Country 1 Country 2 Gender                Job  \\\n",
       "0      30    Adult   Australia                F        Phd Student   \n",
       "1      32    Adult       China                F  Former Consultant   \n",
       "2      69    Adult      France                F            Retiree   \n",
       "3      58    Adult      France                M             Farmer   \n",
       "4      28    Adult  Madagascar                F             Singer   \n",
       "\n",
       "   Number of kids Place of living     REF Type of school  Years of studies  \n",
       "0               0          Sydney  AUS001    Law, Health                10  \n",
       "1               0           Paris   CHN01    Engineering                 5  \n",
       "2               3            Cucq   FR001                                1  \n",
       "3               2    La Caloterie   FR002                                0  \n",
       "4               0           Paris  MAD001                                3  "
      ]
     },
     "execution_count": 35,
     "metadata": {},
     "output_type": "execute_result"
    }
   ],
   "source": [
    "df_people = pd.DataFrame(people)\n",
    "df_people.head()"
   ]
  },
  {
   "cell_type": "code",
   "execution_count": 36,
   "metadata": {
    "collapsed": false
   },
   "outputs": [
    {
     "data": {
      "text/html": [
       "<div>\n",
       "<table border=\"1\" class=\"dataframe\">\n",
       "  <thead>\n",
       "    <tr style=\"text-align: right;\">\n",
       "      <th></th>\n",
       "      <th>32</th>\n",
       "      <th>Age</th>\n",
       "      <th>Category</th>\n",
       "      <th>Country 1</th>\n",
       "      <th>Country 2</th>\n",
       "      <th>Gender</th>\n",
       "      <th>Job</th>\n",
       "      <th>Number of kids</th>\n",
       "      <th>Place of living</th>\n",
       "      <th>REF</th>\n",
       "      <th>Type of school</th>\n",
       "      <th>Years of studies</th>\n",
       "      <th>AgeCategory</th>\n",
       "      <th>YearsStudiesCategory</th>\n",
       "      <th>NumberKidsCategory</th>\n",
       "    </tr>\n",
       "  </thead>\n",
       "  <tbody>\n",
       "    <tr>\n",
       "      <th>0</th>\n",
       "      <td></td>\n",
       "      <td>30</td>\n",
       "      <td>Adult</td>\n",
       "      <td>Australia</td>\n",
       "      <td></td>\n",
       "      <td>F</td>\n",
       "      <td>Phd Student</td>\n",
       "      <td>0</td>\n",
       "      <td>Sydney</td>\n",
       "      <td>AUS001</td>\n",
       "      <td>Law, Health</td>\n",
       "      <td>10</td>\n",
       "      <td>25-35</td>\n",
       "      <td>5+</td>\n",
       "      <td>0</td>\n",
       "    </tr>\n",
       "    <tr>\n",
       "      <th>1</th>\n",
       "      <td></td>\n",
       "      <td>32</td>\n",
       "      <td>Adult</td>\n",
       "      <td>China</td>\n",
       "      <td></td>\n",
       "      <td>F</td>\n",
       "      <td>Former Consultant</td>\n",
       "      <td>0</td>\n",
       "      <td>Paris</td>\n",
       "      <td>CHN01</td>\n",
       "      <td>Engineering</td>\n",
       "      <td>5</td>\n",
       "      <td>25-35</td>\n",
       "      <td>2-5</td>\n",
       "      <td>0</td>\n",
       "    </tr>\n",
       "    <tr>\n",
       "      <th>2</th>\n",
       "      <td></td>\n",
       "      <td>69</td>\n",
       "      <td>Adult</td>\n",
       "      <td>France</td>\n",
       "      <td></td>\n",
       "      <td>F</td>\n",
       "      <td>Retiree</td>\n",
       "      <td>3</td>\n",
       "      <td>Cucq</td>\n",
       "      <td>FR001</td>\n",
       "      <td></td>\n",
       "      <td>1</td>\n",
       "      <td>65+</td>\n",
       "      <td>0-2</td>\n",
       "      <td>2-5</td>\n",
       "    </tr>\n",
       "    <tr>\n",
       "      <th>3</th>\n",
       "      <td></td>\n",
       "      <td>58</td>\n",
       "      <td>Adult</td>\n",
       "      <td>France</td>\n",
       "      <td></td>\n",
       "      <td>M</td>\n",
       "      <td>Farmer</td>\n",
       "      <td>2</td>\n",
       "      <td>La Caloterie</td>\n",
       "      <td>FR002</td>\n",
       "      <td></td>\n",
       "      <td>0</td>\n",
       "      <td>50-65</td>\n",
       "      <td>0-2</td>\n",
       "      <td>2-5</td>\n",
       "    </tr>\n",
       "    <tr>\n",
       "      <th>4</th>\n",
       "      <td></td>\n",
       "      <td>28</td>\n",
       "      <td>Adult</td>\n",
       "      <td>Madagascar</td>\n",
       "      <td></td>\n",
       "      <td>F</td>\n",
       "      <td>Singer</td>\n",
       "      <td>0</td>\n",
       "      <td>Paris</td>\n",
       "      <td>MAD001</td>\n",
       "      <td></td>\n",
       "      <td>3</td>\n",
       "      <td>25-35</td>\n",
       "      <td>2-5</td>\n",
       "      <td>0</td>\n",
       "    </tr>\n",
       "  </tbody>\n",
       "</table>\n",
       "</div>"
      ],
      "text/plain": [
       "  32  Age Category   Country 1 Country 2 Gender                Job  \\\n",
       "0      30    Adult   Australia                F        Phd Student   \n",
       "1      32    Adult       China                F  Former Consultant   \n",
       "2      69    Adult      France                F            Retiree   \n",
       "3      58    Adult      France                M             Farmer   \n",
       "4      28    Adult  Madagascar                F             Singer   \n",
       "\n",
       "   Number of kids Place of living     REF Type of school  Years of studies  \\\n",
       "0               0          Sydney  AUS001    Law, Health                10   \n",
       "1               0           Paris   CHN01    Engineering                 5   \n",
       "2               3            Cucq   FR001                                1   \n",
       "3               2    La Caloterie   FR002                                0   \n",
       "4               0           Paris  MAD001                                3   \n",
       "\n",
       "  AgeCategory YearsStudiesCategory NumberKidsCategory  \n",
       "0       25-35                   5+                  0  \n",
       "1       25-35                  2-5                  0  \n",
       "2         65+                  0-2                2-5  \n",
       "3       50-65                  0-2                2-5  \n",
       "4       25-35                  2-5                  0  "
      ]
     },
     "execution_count": 36,
     "metadata": {},
     "output_type": "execute_result"
    }
   ],
   "source": [
    "# Categories for quantitative attributes\n",
    "categories = [\n",
    "    {\n",
    "        'index':'Age', 'indexCategory':'AgeCategory',\n",
    "        'bins': [0, 15, 25, 35, 50, 65, 200], 'labels': ['0-15', '15-25', '25-35', '35-50', '50-65','65+']\n",
    "    },\n",
    "    {\n",
    "        'index':'Years of studies', 'indexCategory':'YearsStudiesCategory',\n",
    "        'bins': [0, 2, 5, 20], 'labels': ['0-2', '2-5', '5+']\n",
    "    },\n",
    "    {\n",
    "        'index':'Number of kids', 'indexCategory':'NumberKidsCategory',\n",
    "        'bins': [0, 0.1, 1, 5, 20], 'labels': ['0', '1', '2-5', '5+']\n",
    "    }\n",
    "]\n",
    "\n",
    "# Create all category from nquantitative attribute\n",
    "for i in range(len(categories)):\n",
    "    df_people[categories[i]['indexCategory']] = pd.cut( \n",
    "        df_people[categories[i]['index']], \n",
    "        bins=categories[i]['bins'], \n",
    "        include_lowest=True, \n",
    "        labels=categories[i]['labels']\n",
    "    )\n",
    "\n",
    "df_people.head()\n"
   ]
  },
  {
   "cell_type": "code",
   "execution_count": 37,
   "metadata": {
    "collapsed": false
   },
   "outputs": [],
   "source": [
    "df_people[['Gender','Age','AgeCategory']].to_csv('peopleWithCategories.csv')"
   ]
  },
  {
   "cell_type": "code",
   "execution_count": 38,
   "metadata": {
    "collapsed": false
   },
   "outputs": [
    {
     "data": {
      "image/png": "[encoded data removed]",
      "text/plain": [
       "<matplotlib.figure.Figure at 0x7f2f1301b208>"
      ]
     },
     "metadata": {},
     "output_type": "display_data"
    }
   ],
   "source": [
    "import numpy as np\n",
    "%matplotlib inline\n",
    "import matplotlib as mpl\n",
    "import matplotlib.pyplot as plt\n",
    "import seaborn as sns\n",
    "sns.set(style=\"whitegrid\", color_codes=True)\n",
    "np.random.seed(sum(map(ord, \"categorical\")))\n",
    "\n",
    "df_32 = df_people[df_people['32'] != '']\n",
    "#sns.lmplot('Age', 'Years of studies', data=df_people, fit_reg=False)\n",
    "#sns.stripplot(x=\"32\", y=\"Age\", data=df_people, jitter=True);\n",
    "#sns.stripplot(x=\"32\", y=\"Age\", data=df_32, jitter=True);\n",
    "sns.stripplot(x=\"32\", y=\"Age\", data=df_32, jitter=True);\n",
    "#sns.swarmplot(x=\"32\", y=\"Age\", hue=\"Gender\", data=df_32)\n",
    "\n",
    "#heat map ? https://seaborn.pydata.org/generated/seaborn.heatmap.html#seaborn.heatmap"
   ]
  },
  {
   "cell_type": "code",
   "execution_count": 55,
   "metadata": {
    "collapsed": false
   },
   "outputs": [
    {
     "data": {
      "text/html": [
       "<div>\n",
       "<table border=\"1\" class=\"dataframe\">\n",
       "  <thead>\n",
       "    <tr style=\"text-align: right;\">\n",
       "      <th></th>\n",
       "      <th></th>\n",
       "      <th>REF</th>\n",
       "    </tr>\n",
       "    <tr>\n",
       "      <th>32</th>\n",
       "      <th>Gender</th>\n",
       "      <th></th>\n",
       "    </tr>\n",
       "  </thead>\n",
       "  <tbody>\n",
       "    <tr>\n",
       "      <th rowspan=\"2\" valign=\"top\">Better</th>\n",
       "      <th>F</th>\n",
       "      <td>51.282051</td>\n",
       "    </tr>\n",
       "    <tr>\n",
       "      <th>M</th>\n",
       "      <td>48.717949</td>\n",
       "    </tr>\n",
       "    <tr>\n",
       "      <th rowspan=\"2\" valign=\"top\">Both</th>\n",
       "      <th>F</th>\n",
       "      <td>44.000000</td>\n",
       "    </tr>\n",
       "    <tr>\n",
       "      <th>M</th>\n",
       "      <td>56.000000</td>\n",
       "    </tr>\n",
       "    <tr>\n",
       "      <th rowspan=\"2\" valign=\"top\">Cannot compare</th>\n",
       "      <th>F</th>\n",
       "      <td>50.000000</td>\n",
       "    </tr>\n",
       "    <tr>\n",
       "      <th>M</th>\n",
       "      <td>50.000000</td>\n",
       "    </tr>\n",
       "    <tr>\n",
       "      <th rowspan=\"2\" valign=\"top\">Neutral</th>\n",
       "      <th>F</th>\n",
       "      <td>53.846154</td>\n",
       "    </tr>\n",
       "    <tr>\n",
       "      <th>M</th>\n",
       "      <td>46.153846</td>\n",
       "    </tr>\n",
       "    <tr>\n",
       "      <th rowspan=\"2\" valign=\"top\">Worse</th>\n",
       "      <th>F</th>\n",
       "      <td>63.157895</td>\n",
       "    </tr>\n",
       "    <tr>\n",
       "      <th>M</th>\n",
       "      <td>36.842105</td>\n",
       "    </tr>\n",
       "  </tbody>\n",
       "</table>\n",
       "</div>"
      ],
      "text/plain": [
       "                             REF\n",
       "32             Gender           \n",
       "Better         F       51.282051\n",
       "               M       48.717949\n",
       "Both           F       44.000000\n",
       "               M       56.000000\n",
       "Cannot compare F       50.000000\n",
       "               M       50.000000\n",
       "Neutral        F       53.846154\n",
       "               M       46.153846\n",
       "Worse          F       63.157895\n",
       "               M       36.842105"
      ]
     },
     "execution_count": 55,
     "metadata": {},
     "output_type": "execute_result"
    }
   ],
   "source": [
    "summary32 = df_32.groupby(['32','Gender']).agg({'REF': 'count'})\n",
    "# % compared to given category of 32\n",
    "summary32total = summary32.groupby(level=0).apply(lambda x:100 * x / float(x.sum()))\n",
    "# % compared to total\n",
    "#summary32total = summary32.apply(lambda x:100 * x / float(x.sum()))\n",
    "summary32total"
   ]
  },
  {
   "cell_type": "code",
   "execution_count": 39,
   "metadata": {
    "collapsed": false
   },
   "outputs": [
    {
     "data": {
      "text/html": [
       "<div>\n",
       "<table border=\"1\" class=\"dataframe\">\n",
       "  <thead>\n",
       "    <tr style=\"text-align: right;\">\n",
       "      <th>32</th>\n",
       "      <th>Better</th>\n",
       "      <th>Both</th>\n",
       "      <th>Cannot compare</th>\n",
       "      <th>Neutral</th>\n",
       "      <th>Worse</th>\n",
       "    </tr>\n",
       "    <tr>\n",
       "      <th>NumberKidsCategory</th>\n",
       "      <th></th>\n",
       "      <th></th>\n",
       "      <th></th>\n",
       "      <th></th>\n",
       "      <th></th>\n",
       "    </tr>\n",
       "  </thead>\n",
       "  <tbody>\n",
       "    <tr>\n",
       "      <th>0</th>\n",
       "      <td>38.0</td>\n",
       "      <td>15.0</td>\n",
       "      <td>5.0</td>\n",
       "      <td>9.0</td>\n",
       "      <td>9.0</td>\n",
       "    </tr>\n",
       "    <tr>\n",
       "      <th>1</th>\n",
       "      <td>9.0</td>\n",
       "      <td>4.0</td>\n",
       "      <td>NaN</td>\n",
       "      <td>3.0</td>\n",
       "      <td>1.0</td>\n",
       "    </tr>\n",
       "    <tr>\n",
       "      <th>2-5</th>\n",
       "      <td>31.0</td>\n",
       "      <td>5.0</td>\n",
       "      <td>3.0</td>\n",
       "      <td>1.0</td>\n",
       "      <td>8.0</td>\n",
       "    </tr>\n",
       "    <tr>\n",
       "      <th>5+</th>\n",
       "      <td>NaN</td>\n",
       "      <td>1.0</td>\n",
       "      <td>NaN</td>\n",
       "      <td>NaN</td>\n",
       "      <td>1.0</td>\n",
       "    </tr>\n",
       "  </tbody>\n",
       "</table>\n",
       "</div>"
      ],
      "text/plain": [
       "32                  Better  Both  Cannot compare  Neutral  Worse\n",
       "NumberKidsCategory                                              \n",
       "0                     38.0  15.0             5.0      9.0    9.0\n",
       "1                      9.0   4.0             NaN      3.0    1.0\n",
       "2-5                   31.0   5.0             3.0      1.0    8.0\n",
       "5+                     NaN   1.0             NaN      NaN    1.0"
      ]
     },
     "execution_count": 39,
     "metadata": {},
     "output_type": "execute_result"
    }
   ],
   "source": [
    "#test data groupby\n",
    "test = df_32.groupby(['NumberKidsCategory','32']).size().unstack()\n",
    "\n",
    "test"
   ]
  },
  {
   "cell_type": "code",
   "execution_count": 40,
   "metadata": {
    "collapsed": false
   },
   "outputs": [
    {
     "data": {
      "text/plain": [
       "<matplotlib.axes._subplots.AxesSubplot at 0x7f2f019daa20>"
      ]
     },
     "execution_count": 40,
     "metadata": {},
     "output_type": "execute_result"
    },
    {
     "data": {
      "image/png": "[encoded data removed]",
      "text/plain": [
       "<matplotlib.figure.Figure at 0x7f2f01d6c0f0>"
      ]
     },
     "metadata": {},
     "output_type": "display_data"
    }
   ],
   "source": [
    "#test heatmap\n",
    "# with cell annotation with value\n",
    "# sns.heatmap(test2, annot=True, annot_kws={\"size\": 7}, linewidths=2, linecolor='white', cmap=\"YlGnBu\")\n",
    "sns.heatmap(test, linewidths=2, linecolor='white', cmap=\"YlGnBu\")"
   ]
  },
  {
   "cell_type": "code",
   "execution_count": 41,
   "metadata": {
    "collapsed": false
   },
   "outputs": [
    {
     "data": {
      "image/png": "[encoded data removed]",
      "text/plain": [
       "<matplotlib.figure.Figure at 0x7f2f01e8cdd8>"
      ]
     },
     "metadata": {},
     "output_type": "display_data"
    }
   ],
   "source": [
    "# test small multiples - 1\n",
    "g = sns.FacetGrid(df_32, col=\"32\")\n",
    "g.map(plt.hist, \"Age\");"
   ]
  },
  {
   "cell_type": "code",
   "execution_count": 49,
   "metadata": {
    "collapsed": false
   },
   "outputs": [
    {
     "data": {
      "text/html": [
       "<div>\n",
       "<table border=\"1\" class=\"dataframe\">\n",
       "  <thead>\n",
       "    <tr style=\"text-align: right;\">\n",
       "      <th></th>\n",
       "      <th>Age</th>\n",
       "      <th>Number of kids</th>\n",
       "      <th>Years of studies</th>\n",
       "      <th>cat32</th>\n",
       "    </tr>\n",
       "  </thead>\n",
       "  <tbody>\n",
       "    <tr>\n",
       "      <th>Age</th>\n",
       "      <td>1.000000</td>\n",
       "      <td>0.464230</td>\n",
       "      <td>0.101834</td>\n",
       "      <td>0.014324</td>\n",
       "    </tr>\n",
       "    <tr>\n",
       "      <th>Number of kids</th>\n",
       "      <td>0.464230</td>\n",
       "      <td>1.000000</td>\n",
       "      <td>-0.199018</td>\n",
       "      <td>0.010524</td>\n",
       "    </tr>\n",
       "    <tr>\n",
       "      <th>Years of studies</th>\n",
       "      <td>0.101834</td>\n",
       "      <td>-0.199018</td>\n",
       "      <td>1.000000</td>\n",
       "      <td>-0.082055</td>\n",
       "    </tr>\n",
       "    <tr>\n",
       "      <th>cat32</th>\n",
       "      <td>0.014324</td>\n",
       "      <td>0.010524</td>\n",
       "      <td>-0.082055</td>\n",
       "      <td>1.000000</td>\n",
       "    </tr>\n",
       "  </tbody>\n",
       "</table>\n",
       "</div>"
      ],
      "text/plain": [
       "                       Age  Number of kids  Years of studies     cat32\n",
       "Age               1.000000        0.464230          0.101834  0.014324\n",
       "Number of kids    0.464230        1.000000         -0.199018  0.010524\n",
       "Years of studies  0.101834       -0.199018          1.000000 -0.082055\n",
       "cat32             0.014324        0.010524         -0.082055  1.000000"
      ]
     },
     "execution_count": 49,
     "metadata": {},
     "output_type": "execute_result"
    }
   ],
   "source": [
    "# test correlation categorical data\n",
    "#df_32 = df_32.assign('C',df_32['32'].astype('category'))\n",
    "df_32 = df_32.assign(cat32=df_32['32'].astype('category'))\n",
    "# better : 10 , both : 5 , worse : 0, neutral & cannot compare > ~5\n",
    "df_32['cat32'].cat.categories = [10,5,0,5.1,4.9]\n",
    "df_32['cat32'] = df_32['cat32'].astype('float')\n",
    "df_32.corr()\n",
    "#df_32.head()"
   ]
  },
  {
   "cell_type": "code",
   "execution_count": 44,
   "metadata": {
    "collapsed": false
   },
   "outputs": [
    {
     "data": {
      "text/plain": [
       "<seaborn.axisgrid.FacetGrid at 0x7f2c8d3107b8>"
      ]
     },
     "execution_count": 44,
     "metadata": {},
     "output_type": "execute_result"
    },
    {
     "data": {
      "image/png": "[encoded data removed]",
      "text/plain": [
       "<matplotlib.figure.Figure at 0x7f2c8d33ba20>"
      ]
     },
     "metadata": {},
     "output_type": "display_data"
    }
   ],
   "source": [
    "# test small multiples - 2\n",
    "g = sns.FacetGrid(df_32, col=\"AgeCategory\")\n",
    "g.map_dataframe(lambda data, color: sns.heatmap( df_32.groupby(['AgeCategory','32']).size().unstack(), linewidths=0))\n"
   ]
  },
  {
   "cell_type": "code",
   "execution_count": 9,
   "metadata": {
    "collapsed": true
   },
   "outputs": [],
   "source": [
    "# Categories for qualitative attributes\n",
    "\n"
   ]
  },
  {
   "cell_type": "code",
   "execution_count": 57,
   "metadata": {
    "collapsed": false
   },
   "outputs": [
    {
     "name": "stdout",
     "output_type": "stream",
     "text": [
      "54\n",
      "82\n"
     ]
    }
   ],
   "source": [
    "#List unique values in Country column\n",
    "countries = df_people[\"Country 1\"].unique()\n",
    "print(len(countries))\n",
    "\n",
    "#List unique values in Place column\n",
    "places = df_people[\"Place of living\"].unique()\n",
    "print(len(places))"
   ]
  },
  {
   "cell_type": "code",
   "execution_count": null,
   "metadata": {
    "collapsed": true
   },
   "outputs": [],
   "source": []
  }
 ],
 "metadata": {
  "anaconda-cloud": {},
  "kernelspec": {
   "display_name": "Python [default]",
   "language": "python",
   "name": "python3"
  },
  "language_info": {
   "codemirror_mode": {
    "name": "ipython",
    "version": 3
   },
   "file_extension": ".py",
   "mimetype": "text/x-python",
   "name": "python",
   "nbconvert_exporter": "python",
   "pygments_lexer": "ipython3",
   "version": "3.5.2"
  }
 },
 "nbformat": 4,
 "nbformat_minor": 1
}
